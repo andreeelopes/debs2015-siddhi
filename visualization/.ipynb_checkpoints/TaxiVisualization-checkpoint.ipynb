{
 "cells": [
  {
   "cell_type": "code",
   "execution_count": null,
   "metadata": {},
   "outputs": [],
   "source": [
    "!pip install msgpack\n",
    "!pip install kafka-python\n"
   ]
  },
  {
   "cell_type": "code",
   "execution_count": null,
   "metadata": {},
   "outputs": [],
   "source": [
    "from kafka import KafkaConsumer\n",
    "\n",
    "\n",
    "def createConsumer(topic):\n",
    "    return KafkaConsumer(topic)\n",
    "\n",
    "\n",
    "#criacao dos consumidores para as varias queries\n",
    "\n",
    "#c_freq_routes = createConsumer('freq_routes')\n",
    "#c_profit_areas = createConsumer('profit_areas')\n",
    "#c_idle_taxis = createConsumer('idle_taxis')\n",
    "#c_cong_areas = createConsumer('cong_areas')\n",
    "c_pleas_driver = createConsumer('freq_routes')\n",
    "\n",
    "for msg in c_pleas_driver:\n",
    "    print (msg)"
   ]
  },
  {
   "cell_type": "code",
   "execution_count": null,
   "metadata": {},
   "outputs": [],
   "source": []
  }
 ],
 "metadata": {
  "kernelspec": {
   "display_name": "Python 3",
   "language": "python",
   "name": "python3"
  },
  "language_info": {
   "codemirror_mode": {
    "name": "ipython",
    "version": 3
   },
   "file_extension": ".py",
   "mimetype": "text/x-python",
   "name": "python",
   "nbconvert_exporter": "python",
   "pygments_lexer": "ipython3",
   "version": "3.6.5"
  }
 },
 "nbformat": 4,
 "nbformat_minor": 2
}
